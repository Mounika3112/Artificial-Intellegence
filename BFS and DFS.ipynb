{
 "cells": [
  {
   "cell_type": "code",
   "execution_count": 19,
   "id": "5a703a7d",
   "metadata": {},
   "outputs": [],
   "source": [
    "def BFS(g,s):\n",
    "    visited=[]\n",
    "    queue=[]\n",
    "    visited.append(s)\n",
    "    queue.append(s)\n",
    "    while queue:\n",
    "        p=queue.pop(0)\n",
    "        print(p,end=\" \")\n",
    "        for neighbour in g[p]:\n",
    "            if(neighbour not in visited):\n",
    "                visited.append(neighbour)\n",
    "                queue.append(neighbour)"
   ]
  },
  {
   "cell_type": "code",
   "execution_count": 20,
   "id": "e0ee5052",
   "metadata": {},
   "outputs": [],
   "source": [
    "def DFS(g,s):\n",
    "    visited=[]\n",
    "    queue=[]\n",
    "    visited.append(s)\n",
    "    queue.append(s)\n",
    "    while queue:\n",
    "        p=queue.pop()\n",
    "        print(p,end=\" \")\n",
    "        for neighbour in g[p]:\n",
    "            if(neighbour not in visited):\n",
    "                visited.append(neighbour)\n",
    "                queue.append(neighbour)"
   ]
  },
  {
   "cell_type": "code",
   "execution_count": 22,
   "id": "67f14e0e",
   "metadata": {},
   "outputs": [
    {
     "name": "stdout",
     "output_type": "stream",
     "text": [
      "Enter no.of nodes: 4\n",
      "Enter values for the node:1 2\n",
      "Enter values for the node:2\n",
      "Enter values for the node:0 3\n",
      "Enter values for the node:3\n",
      "BFS:\n",
      "0 1 2 3 \n",
      "DFS:\n",
      "0 2 3 1 "
     ]
    }
   ],
   "source": [
    "n=int(input(\"Enter no.of nodes: \"))\n",
    "g={}\n",
    "for i in range(n):\n",
    "    l=[int(x) for x in input(\"Enter values for the node:\").split()]\n",
    "    g[i]=l\n",
    "print(\"BFS:\")\n",
    "BFS(g,0)\n",
    "print(\"\\nDFS:\")\n",
    "DFS(g,0)"
   ]
  },
  {
   "cell_type": "code",
   "execution_count": 8,
   "id": "2079a1d6",
   "metadata": {},
   "outputs": [
    {
     "name": "stdout",
     "output_type": "stream",
     "text": [
      "0\n",
      "1\n"
     ]
    }
   ],
   "source": [
    "for x in g:\n",
    "    print(x)"
   ]
  }
 ],
 "metadata": {
  "kernelspec": {
   "display_name": "Python 3 (ipykernel)",
   "language": "python",
   "name": "python3"
  },
  "language_info": {
   "codemirror_mode": {
    "name": "ipython",
    "version": 3
   },
   "file_extension": ".py",
   "mimetype": "text/x-python",
   "name": "python",
   "nbconvert_exporter": "python",
   "pygments_lexer": "ipython3",
   "version": "3.9.7"
  }
 },
 "nbformat": 4,
 "nbformat_minor": 5
}
